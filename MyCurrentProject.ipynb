{
  "cells": [
    {
      "cell_type": "markdown",
      "metadata": {
        "id": "view-in-github",
        "colab_type": "text"
      },
      "source": [
        "<a href=\"https://colab.research.google.com/github/abinstanislaus/abinstanislaus/blob/main/MyCurrentProject.ipynb\" target=\"_parent\"><img src=\"https://colab.research.google.com/assets/colab-badge.svg\" alt=\"Open In Colab\"/></a>"
      ]
    },
    {
      "cell_type": "code",
      "execution_count": 5,
      "metadata": {
        "id": "zYhj0MNKY_IK"
      },
      "outputs": [],
      "source": [
        "import tensorflow as tf\n",
        "from tensorflow.keras.models import Sequential\n",
        "from tensorflow.keras.layers import Conv2D\n",
        "from tensorflow.keras.layers import MaxPooling2D\n",
        "from tensorflow.keras.layers import Flatten\n",
        "from tensorflow.keras.layers import Dense\n",
        "from google.colab import drive\n",
        "import os\n",
        "from tensorflow.keras.preprocessing.image import ImageDataGenerator as idg\n",
        "\n",
        "\n"
      ]
    },
    {
      "cell_type": "code",
      "execution_count": 6,
      "metadata": {
        "colab": {
          "base_uri": "https://localhost:8080/"
        },
        "id": "Mtv9eOXBccM9",
        "outputId": "e6aa3405-9f35-44e2-daaf-3f672fa2b4aa"
      },
      "outputs": [
        {
          "output_type": "stream",
          "name": "stdout",
          "text": [
            "Drive already mounted at /content/gdrive; to attempt to forcibly remount, call drive.mount(\"/content/gdrive\", force_remount=True).\n",
            "Mounted at /content/gdrive\n"
          ]
        }
      ],
      "source": [
        "drive.mount(\"/content/gdrive\")\n",
        "os.chdir(\"/content/gdrive/My Drive/FER2013\")\n",
        "drive.mount(\"/content/gdrive\", force_remount=True)"
      ]
    },
    {
      "cell_type": "code",
      "execution_count": 7,
      "metadata": {
        "colab": {
          "base_uri": "https://localhost:8080/"
        },
        "id": "LJfgW2xVc9v8",
        "outputId": "5d236a2f-f1f9-4ae2-f856-351cf879e968"
      },
      "outputs": [
        {
          "output_type": "stream",
          "name": "stdout",
          "text": [
            "Found 2359 images belonging to 7 classes.\n",
            "Found 0 images belonging to 7 classes.\n"
          ]
        }
      ],
      "source": [
        "img_size = 48\n",
        "training_dir = (\"/content/gdrive/My Drive/FER2013/train\")\n",
        "val_dir = (\"/content/gdrive/My Drive/FER2013/test1\")\n",
        "train_datagenerator = idg(rescale = 1/255, shear_range=0.2, zoom_range=(0.6, 0.8), rotation_range=28.0, width_shift_range=0.25, height_shift_range=0.30, horizontal_flip = True, vertical_flip = True, fill_mode = \"nearest\")\n",
        "val_datagenerator = idg(rescale = 1/255, shear_range=0.2, zoom_range=(0.6, 0.8), rotation_range=28.0, width_shift_range=0.25, height_shift_range=0.30, horizontal_flip = True, vertical_flip = True, fill_mode = \"nearest\" )\n",
        "\n",
        "train_generator = train_datagenerator.flow_from_directory(directory = training_dir, target_size = (img_size,img_size), batch_size = 64, color_mode = \"grayscale\", class_mode = \"categorical\", subset = \"training\" )\n",
        "validation_generator = val_datagenerator.flow_from_directory( directory = val_dir, target_size = (img_size,img_size), batch_size = 64, color_mode = \"grayscale\", class_mode = \"categorical\", subset = \"validation\" )\n",
        "\n"
      ]
    },
    {
      "cell_type": "code",
      "execution_count": 8,
      "metadata": {
        "id": "alifZTWuAm00"
      },
      "outputs": [],
      "source": [
        "#cALL BAcks\n",
        "\n",
        "class myCallback(tf.keras.callbacks.Callback):\n",
        "  def on_epoch_end(self, epoch, logs ={}):\n",
        "    if(logs.get('accuracy')>0.95):\n",
        "      print('\\n Reached 95% accuracy so cancelling training!')\n",
        "      self.model.stop_training = True\n",
        "\n",
        "\n",
        "callbacks = myCallback()\n"
      ]
    },
    {
      "cell_type": "code",
      "execution_count": 9,
      "metadata": {
        "id": "bsTH2GC0i9G_"
      },
      "outputs": [],
      "source": [
        "from tensorflow.keras.preprocessing.image import load_img, img_to_array\n",
        "from tensorflow.keras.preprocessing.image import ImageDataGenerator\n",
        "from tensorflow.keras.layers import Dense,Input,Dropout,GlobalAveragePooling2D,Flatten,Conv2D,BatchNormalization,Activation,MaxPooling2D\n",
        "from tensorflow.keras.models import Model,Sequential\n",
        "from tensorflow.keras.optimizers import Adam,SGD,RMSprop"
      ]
    },
    {
      "cell_type": "code",
      "execution_count": 10,
      "metadata": {
        "id": "ZIEFpKK_4b5_"
      },
      "outputs": [],
      "source": [
        "#1st CNN layer\n",
        "no_of_classes = 7\n",
        "model = tf.keras.models.Sequential()\n",
        "model.add(Conv2D(64,(3,3),padding=\"same\",input_shape=(48,48,1)))\n",
        "model.add(Activation(\"relu\"))\n",
        "model.add(MaxPooling2D(pool_size=(2,2)))\n",
        "model.add(Dropout(0.25))\n",
        "\n",
        "\n",
        "\n",
        "#2nd CNN layer\n",
        "model.add(Conv2D(128,(5,5),padding=\"same\"))\n",
        "model.add(Activation(\"relu\"))\n",
        "model.add(MaxPooling2D(pool_size=(2,2)))\n",
        "model.add(Dropout(0.25))\n",
        "\n",
        "\n",
        "#3rd CNN layer\n",
        "model.add(Conv2D(512,(3,3),padding=\"same\"))\n",
        "model.add(Activation(\"relu\"))\n",
        "model.add(MaxPooling2D(pool_size=(2,2)))\n",
        "model.add(Dropout(0.25))\n",
        "\n",
        "\n",
        "#4th CNN layer\n",
        "model.add(Conv2D(512,(3,3), padding='same'))\n",
        "model.add(Activation('relu'))\n",
        "model.add(MaxPooling2D(pool_size=(2, 2)))\n",
        "model.add(Dropout(0.25))\n",
        "\n",
        "\n",
        "model.add(Flatten())\n",
        "\n",
        "#Fully connected 1st layer\n",
        "model.add(Dense(256))\n",
        "model.add(Activation('relu'))\n",
        "model.add(Dropout(0.25))\n",
        "\n",
        "\n",
        "# Fully connected layer 2nd layer\n",
        "model.add(Dense(512))\n",
        "model.add(Activation('relu'))\n",
        "model.add(Dropout(0.25))\n",
        "\n",
        "\n",
        "\n",
        "model.add(Dense(no_of_classes,activation=\"softmax\"))"
      ]
    },
    {
      "cell_type": "code",
      "source": [
        "model.compile(optimizer = 'adam',\n",
        "              loss = 'sparse_categorical_crossentropy',\n",
        "              metrics = ['accuracy'])\n",
        "\n",
        "\n",
        "history = model.fit_generator(train_generator,\n",
        "                    epochs =10)\n",
        "ig , ax = plt.subplots(1,2)\n",
        "train_acc = history.history['accuracy']\n",
        "train_loss = history.history['loss']\n",
        "fig.set_size_inches(12,4)\n",
        "\n",
        "ax[0].plot(history.history['accuracy'])\n",
        "ax[0].plot(history.history['val_accuracy'])\n",
        "ax[0].set_title('Training Accuracy vs Validation Accuracy')\n",
        "ax[0].set_ylabel('Accuracy')\n",
        "ax[0].set_xlabel('Epoch')\n",
        "ax[0].legend(['Train', 'Validation'], loc='upper left')\n",
        "\n",
        "ax[1].plot(history.history['loss'])\n",
        "ax[1].plot(history.history['val_loss'])\n",
        "ax[1].set_title('Training Loss vs Validation Loss')\n",
        "ax[1].set_ylabel('Loss')\n",
        "ax[1].set_xlabel('Epoch')\n",
        "ax[1].legend(['Train', 'Validation'], loc='upper left')\n",
        "\n",
        "plt.show()"
      ],
      "metadata": {
        "id": "CNdaIdUDrVmA"
      },
      "execution_count": null,
      "outputs": []
    }
  ],
  "metadata": {
    "colab": {
      "provenance": [],
      "authorship_tag": "ABX9TyMAiWAEebfQ78b7ltranEEe",
      "include_colab_link": true
    },
    "kernelspec": {
      "display_name": "Python 3",
      "name": "python3"
    },
    "language_info": {
      "name": "python"
    }
  },
  "nbformat": 4,
  "nbformat_minor": 0
}